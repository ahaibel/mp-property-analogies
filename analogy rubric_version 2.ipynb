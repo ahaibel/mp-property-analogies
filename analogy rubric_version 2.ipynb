{
 "cells": [
  {
   "cell_type": "code",
   "execution_count": 1,
   "id": "9e0847c4-a855-4652-9e93-ecf5671a98d3",
   "metadata": {},
   "outputs": [],
   "source": [
   
    "import numpy as np\n",
    "import pandas as pd\n",
    "import json"
   ]
  },
  {
   "cell_type": "code",
   "execution_count": 2,
   "id": "257514c0-94f4-4be9-8da5-7b4b6148014b",
   "metadata": {},
   "outputs": [],
   "source": [
    "df=pd.read_csv(\"merged.csv\")"
   ]
  },
  {
   "cell_type": "code",
   "execution_count": 3,
   "id": "e3a74184-a0f7-4a25-9df6-0e114b3ff012",
   "metadata": {},
   "outputs": [
    {
     "name": "stdout",
     "output_type": "stream",
     "text": [
      "Formula not found!\n"
     ]
    }
   ],
   "source": [
    "test_formula= \"EuAl3Cu2 \"\n",
    "result = df[df[\"formula_pretty\"] == test_formula]\n",
    "\n",
    "if not result.empty:\n",
    "    a1 = result.iloc[0][\"a_A\"]\n",
    "    b1 = result.iloc[0][\"b_A\"]\n",
    "    c1 = result.iloc[0][\"c_A\"]\n",
    "    v1 = result.iloc[0][\"volume_A3\"]\n",
    "    print(a1, b1, c1, v1)\n",
    "    \n",
    "else:\n",
    "    print(\"Formula not found!\")"
   ]
  },
  {
   "cell_type": "code",
   "execution_count": 4,
   "id": "1a3ab7b5-f119-4b32-a63a-0f0f14546a43",
   "metadata": {},
   "outputs": [],
   "source": [
    "#write the code to extract a, b, c, volume from json file call them a2, b2, c2, v2"
   ]
  },
  {
   "cell_type": "code",
   "execution_count": 5,
   "id": "bad71add-8552-4bea-ba99-8176d417e0ef",
   "metadata": {},
   "outputs": [
    {
     "ename": "NameError",
     "evalue": "name 'a1' is not defined",
     "output_type": "error",
     "traceback": [
      "\u001b[0;31m---------------------------------------------------------------------------\u001b[0m",
      "\u001b[0;31mNameError\u001b[0m                                 Traceback (most recent call last)",
      "Cell \u001b[0;32mIn[5], line 2\u001b[0m\n\u001b[1;32m      1\u001b[0m \u001b[38;5;66;03m# MAE:\u001b[39;00m\n\u001b[0;32m----> 2\u001b[0m gt \u001b[38;5;241m=\u001b[39m np\u001b[38;5;241m.\u001b[39marray([a1,b1 ,c1, v1 ])\n\u001b[1;32m      5\u001b[0m pred \u001b[38;5;241m=\u001b[39m np\u001b[38;5;241m.\u001b[39marray([a2, b2, c2, v2])\n\u001b[1;32m      7\u001b[0m MAE \u001b[38;5;241m=\u001b[39m np\u001b[38;5;241m.\u001b[39mmean(np\u001b[38;5;241m.\u001b[39mabs(GT \u001b[38;5;241m-\u001b[39m pred))\n",
      "\u001b[0;31mNameError\u001b[0m: name 'a1' is not defined"
     ]
    }
   ],
   "source": [
    "# MAE:\n",
    "gt = np.array([a1,b1 ,c1, v1 ])\n",
    "\n",
    "\n",
    "pred = np.array([a2, b2, c2, v2])\n",
    "\n",
    "MAE = np.mean(np.abs(GT - pred))\n",
    "print(\"MAE:\", mae)\n"
   ]
  },
  {
   "cell_type": "code",
   "execution_count": null,
   "id": "661284eb-e990-4e44-b8ce-cc83d1a0188c",
   "metadata": {},
   "outputs": [],
   "source": []
  }
 ],
 "metadata": {
  "kernelspec": {
   "display_name": "Python [conda env:base] *",
   "language": "python",
   "name": "conda-base-py"
  },
  "language_info": {
   "codemirror_mode": {
    "name": "ipython",
    "version": 3
   },
   "file_extension": ".py",
   "mimetype": "text/x-python",
   "name": "python",
   "nbconvert_exporter": "python",
   "pygments_lexer": "ipython3",
   "version": "3.12.7"
  }
 },
 "nbformat": 4,
 "nbformat_minor": 5
}
