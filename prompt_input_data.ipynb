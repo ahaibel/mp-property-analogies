{
 "cells": [
  {
   "cell_type": "code",
   "execution_count": 3,
   "id": "ad394afc",
   "metadata": {},
   "outputs": [],
   "source": [
    "import pandas as pd\n",
    "from itertools import combinations\n",
    "from pymatgen.core import Composition\n",
    "from itertools import combinations\n",
    "\n",
    "def conditional_dfs(df, reference_formula, out_cols):\n",
    "\n",
    "    ref_dict = Composition(reference_formula).get_el_amt_dict()\n",
    "    mask = df[\"formula_pretty\"].apply(lambda f: Composition(f).get_el_amt_dict() != ref_dict)\n",
    "    df_filtered = df[mask].reset_index(drop=True)\n",
    "\n",
    "    elements = sorted(ref_dict.keys())\n",
    "   \n",
    "    df_filtered[\"comps\"] = df_filtered[\"formula_pretty\"].apply(lambda f: set(Composition(f).get_el_amt_dict().keys()))\n",
    "\n",
    "    dfs = {}\n",
    "\n",
    "    #has_A\n",
    "    for el in elements:\n",
    "        dfs[f\"has_{el}\"] = df_filtered[df_filtered[\"comps\"].apply(lambda S: el in S)][out_cols] \n",
    "\n",
    "    #has A_or_B\n",
    "    for el1, el2 in combinations(elements, 2):\n",
    "        dfs[f\"{el1}_or_{el2}\"] = df_filtered[\n",
    "        df_filtered[\"comps\"].apply(lambda S: (el1 in S) or (el2 in S))][out_cols]\n",
    "        \n",
    "    #gather all index from has_A and has A_or_B\n",
    "    used_idx = pd.Index([])\n",
    "    for d in dfs.values():\n",
    "        used_idx = used_idx.union(d.index)\n",
    "    #none\n",
    "    dfs[\"none\"] = df_filtered.drop(index=used_idx)[out_cols]\n",
    "    \n",
    "    return dfs, df_filtered[out_cols]\n"
   ]
  },
  {
   "cell_type": "code",
   "execution_count": 4,
   "id": "c8433e82",
   "metadata": {},
   "outputs": [
    {
     "name": "stdout",
     "output_type": "stream",
     "text": [
      "has_Ac 1\n",
      "has_Cl 40\n",
      "has_O 68\n",
      "Ac_or_Cl 41\n",
      "Ac_or_O 68\n",
      "Cl_or_O 90\n",
      "none 260\n",
      "dict_keys(['has_Ac', 'has_Cl', 'has_O', 'Ac_or_Cl', 'Ac_or_O', 'Cl_or_O', 'none'])\n",
      "   formula_pretty  band_gap\n",
      "10         RbCaAs    1.2985\n",
      "14           KMgP    1.6589\n",
      "17          TaSeN    0.0000\n",
      "21          NbSeN    0.0000\n",
      "23         CsMnBi    0.0000\n"
     ]
    }
   ],
   "source": [
    "reference_formula = \"AcClO\"  \n",
    "df = pd.read_csv(\"datasets/129_ABC_mp-30273.csv\")\n",
    "\n",
    "dfs, df_no_ref = conditional_dfs(df,reference_formula=reference_formula,\n",
    "    out_cols=[\"formula_pretty\", \"band_gap\"])\n",
    "\n",
    "for condition, data_length in dfs.items():\n",
    "    print(condition, len(data_length))\n",
    "\n",
    "print(dfs.keys())\n",
    "\n",
    "#get a specific dataframe\n",
    "df_none = dfs[\"none\"]\n",
    "print(df_none.head())\n",
    "\n",
    "\n"
   ]
  }
 ],
 "metadata": {
  "kernelspec": {
   "display_name": "mat-pro",
   "language": "python",
   "name": "python3"
  },
  "language_info": {
   "codemirror_mode": {
    "name": "ipython",
    "version": 3
   },
   "file_extension": ".py",
   "mimetype": "text/x-python",
   "name": "python",
   "nbconvert_exporter": "python",
   "pygments_lexer": "ipython3",
   "version": "3.13.7"
  }
 },
 "nbformat": 4,
 "nbformat_minor": 5
}
