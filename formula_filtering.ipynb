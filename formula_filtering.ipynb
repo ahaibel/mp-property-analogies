{
 "cells": [
  {
   "cell_type": "code",
   "execution_count": 16,
   "id": "cae2f882",
   "metadata": {},
   "outputs": [],
   "source": [
    "import pandas as pd\n",
    "import itertools as it\n",
    "from pymatgen.core.composition import Composition\n",
    "\n",
    "use_reduced = True\n",
    "reference_formula = \"Ac2O3\"\n",
    "analogues = pd.read_csv(\"datasets/164_A2B3_mp-11107.csv\")\n",
    "formula_list = analogues[\"formula_pretty\"].tolist()\n",
    "reference_composition = Composition(reference_formula).get_el_amt_dict()"
   ]
  },
  {
   "cell_type": "code",
   "execution_count": 17,
   "id": "06d89adc",
   "metadata": {},
   "outputs": [],
   "source": [
    "def dict_power_set(dictionary):\n",
    "    items = list(dictionary.items())\n",
    "    return [\n",
    "        dict(combo)\n",
    "        for r in range(len(items) + 1) \n",
    "        for combo in it.combinations(items, r)\n",
    "    ]"
   ]
  },
  {
   "cell_type": "code",
   "execution_count": 21,
   "id": "f75d3267",
   "metadata": {},
   "outputs": [],
   "source": [
    "reference_power_set = dict_power_set(reference_composition)"
   ]
  },
  {
   "cell_type": "code",
   "execution_count": null,
   "id": "a9fc102d",
   "metadata": {},
   "outputs": [
    {
     "name": "stdout",
     "output_type": "stream",
     "text": [
      "0\n",
      "1\n",
      "20\n",
      "21\n"
     ]
    }
   ],
   "source": [
    "for element_dict in reference_power_set:\n",
    "    count = 0\n",
    "    for formula in formula_list:\n",
    "        composition = Composition(formula).get_el_amt_dict()\n",
    "        for element in element_dict.keys():\n",
    "            if element in composition.keys():\n",
    "                if element_dict[element] == composition[element]:\n",
    "                    count +=1\n",
    "                    break\n",
    "    print(count)"
   ]
  },
  {
   "cell_type": "code",
   "execution_count": null,
   "id": "810eb6ad",
   "metadata": {},
   "outputs": [],
   "source": []
  }
 ],
 "metadata": {
  "kernelspec": {
   "display_name": "mp-property-analogies",
   "language": "python",
   "name": "python3"
  },
  "language_info": {
   "codemirror_mode": {
    "name": "ipython",
    "version": 3
   },
   "file_extension": ".py",
   "mimetype": "text/x-python",
   "name": "python",
   "nbconvert_exporter": "python",
   "pygments_lexer": "ipython3",
   "version": "3.13.7"
  }
 },
 "nbformat": 4,
 "nbformat_minor": 5
}
