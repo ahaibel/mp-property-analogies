{
 "cells": [
  {
   "cell_type": "code",
   "execution_count": 40,
   "id": "9e0847c4-a855-4652-9e93-ecf5671a98d3",
   "metadata": {},
   "outputs": [],
   "source": [
    "from scipy.spatial.distance import cdist\n",
    "import numpy as np"
   ]
  },
  {
   "cell_type": "code",
   "execution_count": 56,
   "id": "09468f98-6206-4721-bed4-2f8159b01c03",
   "metadata": {},
   "outputs": [
    {
     "name": "stdout",
     "output_type": "stream",
     "text": [
      "euclidean distance for first analogy pair: [[1.40264692]] ,\n",
      "For the test pair :[[2.47509097]], \n",
      "The overal difference:[[1.07244405]]\n"
     ]
    }
   ],
   "source": [
    "# TbB2Rh3,\n",
    "ref1= np.array([5.379841398,5.379841398,3.14173113,78.74782945]).reshape(1, -1)\n",
    "\n",
    "# EuB₂Rh₃\n",
    "ref2= np.array([5.611641342,5.611641342,2.9369823,80.09617431]).reshape(1,-1)\n",
    "\n",
    "# TbAl₃Cu₂\n",
    "test1= np.array([5.3132932,5.3132932,4.02791989,98.47795469]).reshape(1, -1)\n",
    "\n",
    "# EuAl₃Cu₂\n",
    "test2= np.array([5.5652949, 5.5652949, 3.7621771, 100.9127948]).reshape(1,-1)\n",
    "\n",
    "# Deltas\n",
    "ref_delta = ref2 - ref1.reshape(1, -1)\n",
    "test_delta = test2 - test1.reshape(1, -1)\n",
    "\n",
    "# Cosine\n",
    "dists1 = cdist(ref1,ref2, \"euclidean\")\n",
    "dists2 = cdist(test1,test2, \"euclidean\")\n",
    "\n",
    "print (f\"Euclidean distance for the first analogy pair: {dists1} ,\\nFor the test pair :{ dists2}, \\nThe overal difference:{dists2-dists1}\")"
   ]
  },
  {
   "cell_type": "code",
   "execution_count": 30,
   "id": "bad71add-8552-4bea-ba99-8176d417e0ef",
   "metadata": {},
   "outputs": [
    {
     "name": "stdout",
     "output_type": "stream",
     "text": [
      "MAE: 0.8050047599223534\n"
     ]
    }
   ],
   "source": [
    "# MAE:\n",
    "gt = np.array([5.419676971280253,5.419676971280253 , 4.07009126, 103.53366382224992 ])\n",
    "\n",
    "\n",
    "pred = np.array([5.5652949, 5.5652949, 3.7621771, 100.9127948])\n",
    "\n",
    "MAE = np.mean(np.abs(GT - pred))\n",
    "print(\"MAE:\", mae)\n",
    "\n"
   ]
  },
  {
   "cell_type": "code",
   "execution_count": null,
   "id": "0d29bb77-883a-4c93-93d0-9908e4c1cb0c",
   "metadata": {},
   "outputs": [],
   "source": []
  }
 ],
 "metadata": {
  "kernelspec": {
   "display_name": "Python [conda env:base] *",
   "language": "python",
   "name": "conda-base-py"
  },
  "language_info": {
   "codemirror_mode": {
    "name": "ipython",
    "version": 3
   },
   "file_extension": ".py",
   "mimetype": "text/x-python",
   "name": "python",
   "nbconvert_exporter": "python",
   "pygments_lexer": "ipython3",
   "version": "3.12.7"
  }
 },
 "nbformat": 4,
 "nbformat_minor": 5
}
